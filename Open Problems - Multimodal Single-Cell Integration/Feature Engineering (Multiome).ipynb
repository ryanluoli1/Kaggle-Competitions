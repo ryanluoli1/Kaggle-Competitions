{
 "cells": [
  {
   "cell_type": "markdown",
   "metadata": {},
   "source": [
    "# Feature Engineering (Multiome)"
   ]
  },
  {
   "cell_type": "code",
   "execution_count": 1,
   "metadata": {},
   "outputs": [],
   "source": [
    "import os, gc\n",
    "import numpy as np\n",
    "import pandas as pd\n",
    "\n",
    "import scipy \n",
    "import scipy.sparse\n",
    "\n",
    "import sklearn"
   ]
  },
  {
   "cell_type": "markdown",
   "metadata": {},
   "source": [
    "## Import the Raw Data"
   ]
  },
  {
   "cell_type": "code",
   "execution_count": null,
   "metadata": {},
   "outputs": [],
   "source": [
    "DATA_DIR = \"../data/open-problems-multimodal\"\n",
    "FP_CELL_METADATA = os.path.join(DATA_DIR,\"metadata.csv\")\n",
    "\n",
    "#raw training inputs: gene expressions\n",
    "FP_CITE_TRAIN_INPUTS = os.path.join(DATA_DIR,\"train_cite_inputs.h5\")\n",
    "#raw training targets: protein levels\n",
    "FP_CITE_TRAIN_TARGETS = os.path.join(DATA_DIR,\"train_cite_targets.h5\")\n",
    "#raw test inputs\n",
    "FP_CITE_TEST_INPUTS = os.path.join(DATA_DIR,\"test_cite_inputs.h5\")\n",
    "\n",
    "#raw training inputs: chromatin accessibility\n",
    "FP_MULTIOME_TRAIN_INPUTS = os.path.join(DATA_DIR,\"train_multi_inputs.h5\")\n",
    "#raw training targets: gene expression\n",
    "FP_MULTIOME_TRAIN_TARGETS = os.path.join(DATA_DIR,\"train_multi_targets.h5\")\n",
    "#raw test inputs\n",
    "FP_MULTIOME_TEST_INPUTS = os.path.join(DATA_DIR,\"test_multi_inputs.h5\")\n",
    "\n",
    "#sample submission file\n",
    "FP_SUBMISSION = os.path.join(DATA_DIR,\"sample_submission.csv\")\n",
    "FP_EVALUATION_IDS = os.path.join(DATA_DIR,\"evaluation_ids.csv\")"
   ]
  },
  {
   "cell_type": "markdown",
   "metadata": {},
   "source": [
    "## Strategy 1\n",
    "\n",
    "1. dimension reduction with truncated SVD\n",
    "2. standardization\n",
    "3. selected the top 64 most infomrative features"
   ]
  },
  {
   "cell_type": "code",
   "execution_count": null,
   "metadata": {},
   "outputs": [],
   "source": [
    "#import the train and test sets as sparse matrices and combine them\n",
    "X = scipy.sparse.load_npz(\"../data/multimodal-single-cell-as-sparse-matrix/train_multi_inputs_values.sparse.npz\")\n",
    "Xt = scipy.sparse.load_npz(\"../data/multimodal-single-cell-as-sparse-matrix/test_multi_inputs_values.sparse.npz\")\n",
    "both = scipy.sparse.vstack([X, Xt])\n",
    "\n",
    "#dimension reduction with truncated SVD\n",
    "pca = sklearn.decomposition.TruncatedSVD(n_components=512, random_state=64)\n",
    "both = pca.fit_transform(both)\n",
    "\n",
    "#standardization\n",
    "both -= both.mean(axis=1).reshape(-1,1)\n",
    "both /= both.std(axis=1, ddof=1).reshape(-1,1)\n",
    "\n",
    "#select the top 64 informative features\n",
    "both = both[:,:64]\n",
    "X = both[:105942]\n",
    "Xt = both[105942:]\n",
    "del both\n",
    "gc.collect()\n",
    "\n",
    "#store the processed features\n",
    "pd.DataFrame(X).to_csv('../result/fe/X_64.csv', index=False)\n",
    "pd.DataFrame(Xt).to_csv('../result/fe/Xt_64.csv', index=False)\n",
    "\n",
    "X0 = pd.read_csv('../result/fe/X_64.csv').values\n",
    "Xt0 = pd.read_csv('../result/fe/Xt_64.csv').values"
   ]
  },
  {
   "cell_type": "markdown",
   "metadata": {},
   "source": [
    "## Strategy 2: \n",
    "\n",
    "1. standardization\n",
    "2. applied L2 regulaization and log1p transformation\n",
    "3. dimension reduction with truncated SVD\n",
    "4. standardization\n",
    "5. selected the top 100 most informative features"
   ]
  },
  {
   "cell_type": "markdown",
   "metadata": {},
   "source": [
    "## TF-IDF Transformation"
   ]
  },
  {
   "cell_type": "code",
   "execution_count": 2,
   "metadata": {},
   "outputs": [],
   "source": [
    "class tfidfTransformer():\n",
    "    \n",
    "    def __init__(self):\n",
    "        self.idf = None\n",
    "        self.fitted = False\n",
    "\n",
    "    def fit(self, X):\n",
    "        self.idf = X.shape[0] / X.sum(axis=0)\n",
    "        self.fitted = True\n",
    "\n",
    "    def transform(self, X):\n",
    "        if not self.fitted:\n",
    "            raise RuntimeError('Transformer was not fitted on any data')\n",
    "        if scipy.sparse.issparse(X):\n",
    "            tf = X.multiply(1 / X.sum(axis=1))\n",
    "            return tf.multiply(self.idf)\n",
    "        else:\n",
    "            tf = X / X.sum(axis=1).reshape(-1,1)\n",
    "            return tf * self.idf\n",
    "\n",
    "    def fit_transform(self, X):\n",
    "        self.fit(X)\n",
    "        return self.transform(X)"
   ]
  },
  {
   "cell_type": "code",
   "execution_count": null,
   "metadata": {},
   "outputs": [],
   "source": [
    "del X, Xt\n",
    "gc.collect()\n",
    "\n",
    "#import the train and test sets as sparse matrices and combine them\n",
    "X = scipy.sparse.load_npz(\"../data/multimodal-single-cell-as-sparse-matrix/train_multi_inputs_values.sparse.npz\")\n",
    "Xt = scipy.sparse.load_npz(\"../data/multimodal-single-cell-as-sparse-matrix/test_multi_inputs_values.sparse.npz\")\n",
    "both = scipy.sparse.vstack([X, Xt])\n",
    "\n",
    "#dimension reduction with truncated SVD\n",
    "pca = sklearn.decomposition.TruncatedSVD(n_components=512, random_state=64)\n",
    "\n",
    "#l2 normlaization\n",
    "normalizer = sklearn.preprocessing.Normalizer(norm=\"l2\")\n",
    "both = normalizer.fit_transform(both)\n",
    "\n",
    "#fit and TF-IDF transform the features\n",
    "TfidfTransformer = tfidfTransformer()\n",
    "both = TfidfTransformer.fit_transform(both)\n",
    "\n",
    "#l2 normlaization\n",
    "normalizer = sklearn.preprocessing.Normalizer(norm=\"l2\")\n",
    "both = normalizer.fit_transform(both)\n",
    "\n",
    "#log1p transform\n",
    "both = np.log1p(both * 1e4)\n",
    "\n",
    "#dimension reduction with truncated SVD\n",
    "pca = sklearn.decomposition.TruncatedSVD(n_components=512, random_state=64)\n",
    "both = pca.fit_transform(both)\n",
    "\n",
    "#standardization\n",
    "both -= both.mean(axis=1).reshape(-1,1)\n",
    "both /= both.std(axis=1, ddof=1).reshape(-1,1)\n",
    "\n",
    "#select the top 100 informative features\n",
    "both = both[:,:100]\n",
    "\n",
    "#split the training and test set\n",
    "X = both[:105942]\n",
    "Xt = both[105942:]\n",
    "del both\n",
    "gc.collect()\n",
    "\n",
    "#combine these 100 features with the previously obtain 64 features\n",
    "pd.DataFrame(X).to_csv('../result/fe/X_164_l2.csv', index=False)\n",
    "pd.DataFrame(Xt).to_csv('../result/fe/Xt_164_l2.csv', index=False)\n",
    "\n",
    "#store the generate features as csv files\n",
    "pd.DataFrame(X).to_csv('../result/fe/X_164_l2.csv', index=False)\n",
    "pd.DataFrame(Xt).to_csv('../result/fe/Xt_164_l2.csv', index=False)"
   ]
  }
 ],
 "metadata": {
  "kernelspec": {
   "display_name": "Python 3",
   "language": "python",
   "name": "python3"
  },
  "language_info": {
   "codemirror_mode": {
    "name": "ipython",
    "version": 3
   },
   "file_extension": ".py",
   "mimetype": "text/x-python",
   "name": "python",
   "nbconvert_exporter": "python",
   "pygments_lexer": "ipython3",
   "version": "3.8.5"
  }
 },
 "nbformat": 4,
 "nbformat_minor": 4
}
